{
  "nbformat": 4,
  "nbformat_minor": 0,
  "metadata": {
    "colab": {
      "name": "Untitled1.ipynb",
      "provenance": [],
      "collapsed_sections": []
    },
    "kernelspec": {
      "name": "python3",
      "display_name": "Python 3"
    },
    "accelerator": "GPU"
  },
  "cells": [
    {
      "cell_type": "code",
      "metadata": {
        "id": "14ss0iW5dXKx",
        "colab_type": "code",
        "colab": {}
      },
      "source": [
        ""
      ],
      "execution_count": 0,
      "outputs": []
    },
    {
      "cell_type": "code",
      "metadata": {
        "id": "NduNUxotdeRG",
        "colab_type": "code",
        "colab": {
          "base_uri": "https://localhost:8080/",
          "height": 122
        },
        "outputId": "ce2bd337-ad4e-48ac-eef8-5303d7b32ee2"
      },
      "source": [
        "from google.colab import drive\n",
        "drive.mount('/content/drive')"
      ],
      "execution_count": 2,
      "outputs": [
        {
          "output_type": "stream",
          "text": [
            "Go to this URL in a browser: https://accounts.google.com/o/oauth2/auth?client_id=947318989803-6bn6qk8qdgf4n4g3pfee6491hc0brc4i.apps.googleusercontent.com&redirect_uri=urn%3aietf%3awg%3aoauth%3a2.0%3aoob&response_type=code&scope=email%20https%3a%2f%2fwww.googleapis.com%2fauth%2fdocs.test%20https%3a%2f%2fwww.googleapis.com%2fauth%2fdrive%20https%3a%2f%2fwww.googleapis.com%2fauth%2fdrive.photos.readonly%20https%3a%2f%2fwww.googleapis.com%2fauth%2fpeopleapi.readonly\n",
            "\n",
            "Enter your authorization code:\n",
            "··········\n",
            "Mounted at /content/drive\n"
          ],
          "name": "stdout"
        }
      ]
    },
    {
      "cell_type": "code",
      "metadata": {
        "id": "RKhp2BwsFXhJ",
        "colab_type": "code",
        "colab": {
          "base_uri": "https://localhost:8080/",
          "height": 34
        },
        "outputId": "ea9b297c-0880-4fcf-e278-a4d52313af97"
      },
      "source": [
        "from keras.models import Sequential\n",
        "from keras.layers import Dense, Dropout, Activation, Flatten, Convolution2D, MaxPooling2D\n",
        "from keras.callbacks import EarlyStopping\n",
        "from keras.utils import to_categorical\n",
        "from keras.preprocessing.image import ImageDataGenerator\n",
        "\n",
        "import numpy as np\n",
        "import os"
      ],
      "execution_count": 3,
      "outputs": [
        {
          "output_type": "stream",
          "text": [
            "Using TensorFlow backend.\n"
          ],
          "name": "stderr"
        }
      ]
    },
    {
      "cell_type": "code",
      "metadata": {
        "id": "hpyHMHivFdlU",
        "colab_type": "code",
        "colab": {
          "base_uri": "https://localhost:8080/",
          "height": 51
        },
        "outputId": "29ec2359-3411-47c9-e275-b3840e425cd2"
      },
      "source": [
        "Message1 = \"Enter Data Path (End with /,Example: C:/User/Documents/):\"\n",
        "print(Message1)\n",
        "Data_Source = input()\n",
        "train_data_dir = (Data_Source +'train/')\n",
        "valid_data_dir = (Data_Source +'validation/')"
      ],
      "execution_count": 4,
      "outputs": [
        {
          "output_type": "stream",
          "text": [
            "Enter Data Path (End with /,Example: C:/User/Documents/):\n",
            "/content/drive/My Drive/DOCS/\n"
          ],
          "name": "stdout"
        }
      ]
    },
    {
      "cell_type": "code",
      "metadata": {
        "id": "pufjzDp-H924",
        "colab_type": "code",
        "colab": {
          "base_uri": "https://localhost:8080/",
          "height": 51
        },
        "outputId": "7bfcc56f-e905-4771-aa9d-e430743ecdab"
      },
      "source": [
        "datagen = ImageDataGenerator(\n",
        "        rescale=1. / 255,\n",
        "        shear_range=0.15,\n",
        "        zoom_range=0.15,\n",
        "        horizontal_flip=False)\n",
        "\n",
        "x_train = datagen.flow_from_directory(directory=train_data_dir,\n",
        "                                          target_size=(128, 128),\n",
        "                                          class_mode='categorical',\n",
        "                                          batch_size=16)\n",
        "\n",
        "y_train = datagen.flow_from_directory(directory=valid_data_dir,\n",
        "                                          target_size=(128, 128),\n",
        "                                          class_mode='categorical',\n",
        "                                          batch_size=32)"
      ],
      "execution_count": 5,
      "outputs": [
        {
          "output_type": "stream",
          "text": [
            "Found 7346 images belonging to 12 classes.\n",
            "Found 1843 images belonging to 12 classes.\n"
          ],
          "name": "stdout"
        }
      ]
    },
    {
      "cell_type": "code",
      "metadata": {
        "id": "9ew3CrrYHOtP",
        "colab_type": "code",
        "colab": {
          "base_uri": "https://localhost:8080/",
          "height": 1000
        },
        "outputId": "b17ed331-ceb8-46ad-c6e5-79148e81e036"
      },
      "source": [
        "\n",
        "model = Sequential()\n",
        "model.add(Convolution2D(256, (3,3), activation='relu', padding='same',input_shape = (128,128,3))) # if you resize the image above, shape would be (128,128,3)\n",
        "model.add(Convolution2D(256, (3,3), activation='relu'))\n",
        "model.add(MaxPooling2D(pool_size=(2,2)))\n",
        "\n",
        "model.add(Convolution2D(128, (3,3), activation='relu', padding='same'))\n",
        "model.add(Convolution2D(128, (3,3), activation='relu'))\n",
        "model.add(MaxPooling2D(pool_size=(2,2)))\n",
        "model.add(Dropout(0.2))\n",
        "\n",
        "model.add(Convolution2D(64, (3,3), activation='relu', padding='same'))\n",
        "model.add(Convolution2D(64, (3,3), activation='relu'))\n",
        "model.add(MaxPooling2D(pool_size=(2,2)))\n",
        "model.add(Dropout(0.2))\n",
        "\n",
        "model.add(Convolution2D(32, (3,3), activation='relu', padding='same'))\n",
        "model.add(Convolution2D(32, (3,3), activation='relu'))\n",
        "model.add(MaxPooling2D(pool_size=(2,2)))\n",
        "model.add(Dropout(0.2))\n",
        "\n",
        "model.add(Convolution2D(16, (3,3), activation='relu', padding='same'))\n",
        "model.add(Convolution2D(16, (3,3), activation='relu'))\n",
        "model.add(MaxPooling2D(pool_size=(2,2)))\n",
        "model.add(Dropout(0.2))\n",
        "\n",
        "model.add(Flatten())\n",
        "model.add(Dense(64, activation='relu'))\n",
        "model.add(Dropout(0.2))\n",
        "model.add(Dense(64, activation='relu'))\n",
        "model.add(Dropout(0.2))\n",
        "model.add(Dense(32, activation='relu'))\n",
        "model.add(Dropout(0.2))\n",
        "model.add(Dense(16, activation='relu'))\n",
        "model.add(Dropout(0.2))\n",
        "model.add(Dense(8, activation='relu'))\n",
        "#model.add(Dense(y_train.shape[1], activation='softmax')) #58\n",
        "model.add(Dense(58, activation='softmax'))\n",
        "model.compile(loss = 'categorical_crossentropy', optimizer = 'adam', metrics = ['accuracy'])\n",
        "model.summary()"
      ],
      "execution_count": 64,
      "outputs": [
        {
          "output_type": "stream",
          "text": [
            "Model: \"sequential_14\"\n",
            "_________________________________________________________________\n",
            "Layer (type)                 Output Shape              Param #   \n",
            "=================================================================\n",
            "conv2d_62 (Conv2D)           (None, 128, 128, 256)     7168      \n",
            "_________________________________________________________________\n",
            "conv2d_63 (Conv2D)           (None, 126, 126, 256)     590080    \n",
            "_________________________________________________________________\n",
            "max_pooling2d_42 (MaxPooling (None, 63, 63, 256)       0         \n",
            "_________________________________________________________________\n",
            "conv2d_64 (Conv2D)           (None, 63, 63, 128)       295040    \n",
            "_________________________________________________________________\n",
            "conv2d_65 (Conv2D)           (None, 61, 61, 128)       147584    \n",
            "_________________________________________________________________\n",
            "max_pooling2d_43 (MaxPooling (None, 30, 30, 128)       0         \n",
            "_________________________________________________________________\n",
            "dropout_42 (Dropout)         (None, 30, 30, 128)       0         \n",
            "_________________________________________________________________\n",
            "conv2d_66 (Conv2D)           (None, 30, 30, 64)        73792     \n",
            "_________________________________________________________________\n",
            "conv2d_67 (Conv2D)           (None, 28, 28, 64)        36928     \n",
            "_________________________________________________________________\n",
            "max_pooling2d_44 (MaxPooling (None, 14, 14, 64)        0         \n",
            "_________________________________________________________________\n",
            "dropout_43 (Dropout)         (None, 14, 14, 64)        0         \n",
            "_________________________________________________________________\n",
            "conv2d_68 (Conv2D)           (None, 14, 14, 32)        18464     \n",
            "_________________________________________________________________\n",
            "conv2d_69 (Conv2D)           (None, 12, 12, 32)        9248      \n",
            "_________________________________________________________________\n",
            "max_pooling2d_45 (MaxPooling (None, 6, 6, 32)          0         \n",
            "_________________________________________________________________\n",
            "dropout_44 (Dropout)         (None, 6, 6, 32)          0         \n",
            "_________________________________________________________________\n",
            "conv2d_70 (Conv2D)           (None, 6, 6, 16)          4624      \n",
            "_________________________________________________________________\n",
            "conv2d_71 (Conv2D)           (None, 4, 4, 16)          2320      \n",
            "_________________________________________________________________\n",
            "max_pooling2d_46 (MaxPooling (None, 2, 2, 16)          0         \n",
            "_________________________________________________________________\n",
            "dropout_45 (Dropout)         (None, 2, 2, 16)          0         \n",
            "_________________________________________________________________\n",
            "flatten_12 (Flatten)         (None, 64)                0         \n",
            "_________________________________________________________________\n",
            "dense_38 (Dense)             (None, 64)                4160      \n",
            "_________________________________________________________________\n",
            "dropout_46 (Dropout)         (None, 64)                0         \n",
            "_________________________________________________________________\n",
            "dense_39 (Dense)             (None, 64)                4160      \n",
            "_________________________________________________________________\n",
            "dropout_47 (Dropout)         (None, 64)                0         \n",
            "_________________________________________________________________\n",
            "dense_40 (Dense)             (None, 32)                2080      \n",
            "_________________________________________________________________\n",
            "dropout_48 (Dropout)         (None, 32)                0         \n",
            "_________________________________________________________________\n",
            "dense_41 (Dense)             (None, 16)                528       \n",
            "_________________________________________________________________\n",
            "dropout_49 (Dropout)         (None, 16)                0         \n",
            "_________________________________________________________________\n",
            "dense_42 (Dense)             (None, 8)                 136       \n",
            "_________________________________________________________________\n",
            "dense_43 (Dense)             (None, 58)                522       \n",
            "=================================================================\n",
            "Total params: 1,196,834\n",
            "Trainable params: 1,196,834\n",
            "Non-trainable params: 0\n",
            "_________________________________________________________________\n"
          ],
          "name": "stdout"
        }
      ]
    },
    {
      "cell_type": "code",
      "metadata": {
        "id": "ruyO-_g2I4e_",
        "colab_type": "code",
        "colab": {}
      },
      "source": [
        "from tensorflow import keras\n",
        "early_stop = keras.callbacks.EarlyStopping(monitor='val_loss', patience=20)\n",
        "\n",
        "batch_size = 40 # tune it\n",
        "epochs = 1000 # increase it\n",
        "\n",
        "train_datagen = ImageDataGenerator(\n",
        "        rotation_range=10,\n",
        "        width_shift_range=0.1,\n",
        "        height_shift_range=0.1,\n",
        "        horizontal_flip=True)\n",
        "\n",
        "train_datagen.fit(x_train)\n",
        "history = model.fit_generator(\n",
        "    train_datagen.flow(x_train, y_train, batch_size=batch_size),\n",
        "    #steps_per_epoch=x_train.shape[0] // batch_size, #460\n",
        "    steps_per_epoch=460 // batch_size,\n",
        "    epochs=epochs,\n",
        "    callbacks=[early_stop]\n",
        ")\n"
      ],
      "execution_count": 0,
      "outputs": []
    },
    {
      "cell_type": "code",
      "metadata": {
        "id": "xNsfH712MA6g",
        "colab_type": "code",
        "colab": {}
      },
      "source": [
        "from pprint import pprint\n",
        "pprint(history.__dict__)"
      ],
      "execution_count": 0,
      "outputs": []
    },
    {
      "cell_type": "code",
      "metadata": {
        "id": "lijvaGzVLBhH",
        "colab_type": "code",
        "colab": {}
      },
      "source": [
        "plt.plot(history.history['loss'])\n",
        "plt.xlabel('Epochs')\n",
        "plt.ylabel('Data Loss')\n",
        "plt.show()\n",
        "\n",
        "plt.plot(history.history['accuracy'])\n",
        "plt.xlabel('Epochs')\n",
        "plt.ylabel('Accuracy Of Our Data')\n",
        "plt.show()"
      ],
      "execution_count": 0,
      "outputs": []
    },
    {
      "cell_type": "code",
      "metadata": {
        "id": "LTmZB_BgK076",
        "colab_type": "code",
        "colab": {}
      },
      "source": [
        "print('training finished!!')\n",
        "\n",
        "    print('saving weights to DOCMODEL_CNN.h5')\n",
        "    DOCMODEL = os.mkdir(Data_Source + \"DOCMODEL/\")\n",
        "    model.save(DOCMODEL,'DOCMODEL_CNN.h5')\n",
        "    print('all weights saved successfully !!')"
      ],
      "execution_count": 0,
      "outputs": []
    }
  ]
}