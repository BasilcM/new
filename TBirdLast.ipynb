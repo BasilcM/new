{
  "nbformat": 4,
  "nbformat_minor": 0,
  "metadata": {
    "colab": {
      "name": "TBird.ipynb",
      "provenance": [],
      "collapsed_sections": [],
      "include_colab_link": true
    },
    "kernelspec": {
      "name": "python3",
      "display_name": "Python 3"
    },
    "accelerator": "GPU"
  },
  "cells": [
    {
      "cell_type": "markdown",
      "metadata": {
        "id": "view-in-github",
        "colab_type": "text"
      },
      "source": [
        "<a href=\"https://colab.research.google.com/github/tbirdss/new/blob/test-py/TBirdLast.ipynb\" target=\"_parent\"><img src=\"https://colab.research.google.com/assets/colab-badge.svg\" alt=\"Open In Colab\"/></a>"
      ]
    },
    {
      "cell_type": "code",
      "metadata": {
        "id": "jeixY-MX6Hkb",
        "colab_type": "code",
        "colab": {}
      },
      "source": [
        "from google.colab import drive\n",
        "drive.mount('/content/drive')"
      ],
      "execution_count": 0,
      "outputs": []
    },
    {
      "cell_type": "code",
      "metadata": {
        "id": "M-WKJkCRBSUC",
        "colab_type": "code",
        "outputId": "ad7b2d5d-207e-4414-c81a-5e45ca8fd9d0",
        "colab": {
          "base_uri": "https://localhost:8080/",
          "height": 80
        }
      },
      "source": [
        "#Using Bottleneck Features for Multi-Class Classification in Keras\n",
        "\n",
        "import numpy as np\n",
        "from keras.preprocessing.image import ImageDataGenerator, img_to_array, load_img\n",
        "from keras.models import Sequential\n",
        "from keras.layers import Dropout, Flatten, Dense\n",
        "from keras import applications\n",
        "from keras.utils.np_utils import to_categorical\n",
        "import matplotlib.pyplot as plt\n",
        "import math\n",
        "#import cv2"
      ],
      "execution_count": 1,
      "outputs": [
        {
          "output_type": "stream",
          "text": [
            "Using TensorFlow backend.\n"
          ],
          "name": "stderr"
        },
        {
          "output_type": "display_data",
          "data": {
            "text/html": [
              "<p style=\"color: red;\">\n",
              "The default version of TensorFlow in Colab will soon switch to TensorFlow 2.x.<br>\n",
              "We recommend you <a href=\"https://www.tensorflow.org/guide/migrate\" target=\"_blank\">upgrade</a> now \n",
              "or ensure your notebook will continue to use TensorFlow 1.x via the <code>%tensorflow_version 1.x</code> magic:\n",
              "<a href=\"https://colab.research.google.com/notebooks/tensorflow_version.ipynb\" target=\"_blank\">more info</a>.</p>\n"
            ],
            "text/plain": [
              "<IPython.core.display.HTML object>"
            ]
          },
          "metadata": {
            "tags": []
          }
        }
      ]
    },
    {
      "cell_type": "code",
      "metadata": {
        "id": "hPKELQ59CXk6",
        "colab_type": "code",
        "colab": {}
      },
      "source": [
        "# dimensions of our images when loading.\n",
        "img_width, img_height = 224, 224\n",
        "\n",
        "top_model_weights_path = '/content/drive/My Drive/TBird/DOCS/DOCMODEL/MODEL.h5'\n",
        "train_data_dir = '/content/drive/My Drive/TBird/DOCS/train'\n",
        "validation_data_dir = '/content/drive/My Drive/TBird/DOCS/validation'\n",
        "\n",
        "# number of epochs to train top model\n",
        "epochs = 50\n",
        "# batch size used by flow_from_directory and predict_generator\n",
        "batch_size = 16"
      ],
      "execution_count": 0,
      "outputs": []
    },
    {
      "cell_type": "code",
      "metadata": {
        "id": "BCeCiBKsEVAi",
        "colab_type": "code",
        "colab": {}
      },
      "source": [
        "\n",
        "def create_generator(root_path):\n",
        "    datagen = ImageDataGenerator(rescale=1. / 255)\n",
        "\n",
        "    generator = datagen.flow_from_directory(\n",
        "        root_path,\n",
        "        target_size=(img_width, img_height),\n",
        "        batch_size=batch_size,\n",
        "        class_mode=None,\n",
        "        shuffle=False)\n",
        "\n",
        "    # Comment out print statement to protect privacy\n",
        "    #generator.filenames contains all the filenames\n",
        "    #print('total number of samples = {0}'.format(len(generator.filenames)))\n",
        "    \n",
        "    # generator.class_indices is the map/dictionary for the class-names and their indexes\n",
        "    #print('number of categories= {0}'.format(len(generator.class_indices)))\n",
        "    \n",
        "    #print('\\ncategory vs. index mapping:')\n",
        "    #print(generator.class_indices)\n",
        "    \n",
        "    return generator"
      ],
      "execution_count": 0,
      "outputs": []
    },
    {
      "cell_type": "code",
      "metadata": {
        "id": "_hwKdS2UEZHk",
        "colab_type": "code",
        "outputId": "9eedb5fb-24ae-410b-e6c0-971d43a3ae82",
        "colab": {
          "base_uri": "https://localhost:8080/",
          "height": 51
        }
      },
      "source": [
        "train_generator = create_generator(train_data_dir)\n",
        "validation_generator = create_generator(validation_data_dir)"
      ],
      "execution_count": 0,
      "outputs": [
        {
          "output_type": "stream",
          "text": [
            "Found 7346 images belonging to 12 classes.\n",
            "Found 1843 images belonging to 12 classes.\n"
          ],
          "name": "stdout"
        }
      ]
    },
    {
      "cell_type": "code",
      "metadata": {
        "id": "OjJ0SVa-E0cX",
        "colab_type": "code",
        "colab": {}
      },
      "source": [
        "def save_bottlebeck_features(train_generator, validation_generator):\n",
        "    \n",
        "    # build the VGG16 network, use the weights trained on imagenet data\n",
        "    model = applications.VGG16(include_top=False, weights='imagenet')\n",
        "\n",
        "\n",
        "    nb_train_samples = len(train_generator.filenames)\n",
        "    num_classes = len(train_generator.class_indices)\n",
        "\n",
        "    predict_size_train = int(math.ceil(nb_train_samples / batch_size))\n",
        "\n",
        "    bottleneck_features_train = model.predict_generator(\n",
        "        train_generator, predict_size_train)\n",
        "\n",
        "    np.save('bottleneck_features_train.npy', bottleneck_features_train)\n",
        "\n",
        "   \n",
        "    nb_validation_samples = len(validation_generator.filenames)\n",
        "\n",
        "    predict_size_validation = int(\n",
        "        math.ceil(nb_validation_samples / batch_size))\n",
        "\n",
        "    bottleneck_features_validation = model.predict_generator(\n",
        "        validation_generator, predict_size_validation)\n",
        "\n",
        "    np.save('bottleneck_features_validation.npy',\n",
        "            bottleneck_features_validation)"
      ],
      "execution_count": 0,
      "outputs": []
    },
    {
      "cell_type": "code",
      "metadata": {
        "id": "vkFT8rNDE9HK",
        "colab_type": "code",
        "outputId": "563437c6-8f42-4eda-de40-5b90971fb43c",
        "colab": {
          "base_uri": "https://localhost:8080/",
          "height": 445
        }
      },
      "source": [
        "save_bottlebeck_features(train_generator, validation_generator)"
      ],
      "execution_count": 0,
      "outputs": [
        {
          "output_type": "error",
          "ename": "RuntimeError",
          "evalue": "ignored",
          "traceback": [
            "\u001b[0;31m---------------------------------------------------------------------------\u001b[0m",
            "\u001b[0;31mAttributeError\u001b[0m                            Traceback (most recent call last)",
            "\u001b[0;32m/usr/local/lib/python3.6/dist-packages/keras/backend/tensorflow_backend.py\u001b[0m in \u001b[0;36m_get_default_graph\u001b[0;34m()\u001b[0m\n\u001b[1;32m     65\u001b[0m     \u001b[0;32mtry\u001b[0m\u001b[0;34m:\u001b[0m\u001b[0;34m\u001b[0m\u001b[0;34m\u001b[0m\u001b[0m\n\u001b[0;32m---> 66\u001b[0;31m         \u001b[0;32mreturn\u001b[0m \u001b[0mtf\u001b[0m\u001b[0;34m.\u001b[0m\u001b[0mget_default_graph\u001b[0m\u001b[0;34m(\u001b[0m\u001b[0;34m)\u001b[0m\u001b[0;34m\u001b[0m\u001b[0;34m\u001b[0m\u001b[0m\n\u001b[0m\u001b[1;32m     67\u001b[0m     \u001b[0;32mexcept\u001b[0m \u001b[0mAttributeError\u001b[0m\u001b[0;34m:\u001b[0m\u001b[0;34m\u001b[0m\u001b[0;34m\u001b[0m\u001b[0m\n",
            "\u001b[0;31mAttributeError\u001b[0m: module 'tensorflow' has no attribute 'get_default_graph'",
            "\nDuring handling of the above exception, another exception occurred:\n",
            "\u001b[0;31mRuntimeError\u001b[0m                              Traceback (most recent call last)",
            "\u001b[0;32m<ipython-input-20-e67c67946e36>\u001b[0m in \u001b[0;36m<module>\u001b[0;34m()\u001b[0m\n\u001b[1;32m      1\u001b[0m \u001b[0;32mfrom\u001b[0m \u001b[0mtensorflow\u001b[0m\u001b[0;34m.\u001b[0m\u001b[0mcompat\u001b[0m\u001b[0;34m.\u001b[0m\u001b[0mv1\u001b[0m \u001b[0;32mimport\u001b[0m \u001b[0mkeras\u001b[0m\u001b[0;34m\u001b[0m\u001b[0;34m\u001b[0m\u001b[0m\n\u001b[0;32m----> 2\u001b[0;31m \u001b[0msave_bottlebeck_features\u001b[0m\u001b[0;34m(\u001b[0m\u001b[0mtrain_generator\u001b[0m\u001b[0;34m,\u001b[0m \u001b[0mvalidation_generator\u001b[0m\u001b[0;34m)\u001b[0m\u001b[0;34m\u001b[0m\u001b[0;34m\u001b[0m\u001b[0m\n\u001b[0m",
            "\u001b[0;32m<ipython-input-17-9deb877f5d35>\u001b[0m in \u001b[0;36msave_bottlebeck_features\u001b[0;34m(train_generator, validation_generator)\u001b[0m\n\u001b[1;32m      2\u001b[0m \u001b[0;34m\u001b[0m\u001b[0m\n\u001b[1;32m      3\u001b[0m     \u001b[0;31m# build the VGG16 network, use the weights trained on imagenet data\u001b[0m\u001b[0;34m\u001b[0m\u001b[0;34m\u001b[0m\u001b[0;34m\u001b[0m\u001b[0m\n\u001b[0;32m----> 4\u001b[0;31m     \u001b[0mmodel\u001b[0m \u001b[0;34m=\u001b[0m \u001b[0mapplications\u001b[0m\u001b[0;34m.\u001b[0m\u001b[0mVGG16\u001b[0m\u001b[0;34m(\u001b[0m\u001b[0minclude_top\u001b[0m\u001b[0;34m=\u001b[0m\u001b[0;32mFalse\u001b[0m\u001b[0;34m,\u001b[0m \u001b[0mweights\u001b[0m\u001b[0;34m=\u001b[0m\u001b[0;34m'imagenet'\u001b[0m\u001b[0;34m)\u001b[0m\u001b[0;34m\u001b[0m\u001b[0;34m\u001b[0m\u001b[0m\n\u001b[0m\u001b[1;32m      5\u001b[0m \u001b[0;34m\u001b[0m\u001b[0m\n\u001b[1;32m      6\u001b[0m \u001b[0;34m\u001b[0m\u001b[0m\n",
            "\u001b[0;32m/usr/local/lib/python3.6/dist-packages/keras/applications/__init__.py\u001b[0m in \u001b[0;36mwrapper\u001b[0;34m(*args, **kwargs)\u001b[0m\n\u001b[1;32m     18\u001b[0m         \u001b[0mkwargs\u001b[0m\u001b[0;34m[\u001b[0m\u001b[0;34m'models'\u001b[0m\u001b[0;34m]\u001b[0m \u001b[0;34m=\u001b[0m \u001b[0mmodels\u001b[0m\u001b[0;34m\u001b[0m\u001b[0;34m\u001b[0m\u001b[0m\n\u001b[1;32m     19\u001b[0m         \u001b[0mkwargs\u001b[0m\u001b[0;34m[\u001b[0m\u001b[0;34m'utils'\u001b[0m\u001b[0;34m]\u001b[0m \u001b[0;34m=\u001b[0m \u001b[0mutils\u001b[0m\u001b[0;34m\u001b[0m\u001b[0;34m\u001b[0m\u001b[0m\n\u001b[0;32m---> 20\u001b[0;31m         \u001b[0;32mreturn\u001b[0m \u001b[0mbase_fun\u001b[0m\u001b[0;34m(\u001b[0m\u001b[0;34m*\u001b[0m\u001b[0margs\u001b[0m\u001b[0;34m,\u001b[0m \u001b[0;34m**\u001b[0m\u001b[0mkwargs\u001b[0m\u001b[0;34m)\u001b[0m\u001b[0;34m\u001b[0m\u001b[0;34m\u001b[0m\u001b[0m\n\u001b[0m\u001b[1;32m     21\u001b[0m \u001b[0;34m\u001b[0m\u001b[0m\n\u001b[1;32m     22\u001b[0m     \u001b[0;32mreturn\u001b[0m \u001b[0mwrapper\u001b[0m\u001b[0;34m\u001b[0m\u001b[0;34m\u001b[0m\u001b[0m\n",
            "\u001b[0;32m/usr/local/lib/python3.6/dist-packages/keras/applications/vgg16.py\u001b[0m in \u001b[0;36mVGG16\u001b[0;34m(*args, **kwargs)\u001b[0m\n\u001b[1;32m      9\u001b[0m \u001b[0;34m@\u001b[0m\u001b[0mkeras_modules_injection\u001b[0m\u001b[0;34m\u001b[0m\u001b[0;34m\u001b[0m\u001b[0m\n\u001b[1;32m     10\u001b[0m \u001b[0;32mdef\u001b[0m \u001b[0mVGG16\u001b[0m\u001b[0;34m(\u001b[0m\u001b[0;34m*\u001b[0m\u001b[0margs\u001b[0m\u001b[0;34m,\u001b[0m \u001b[0;34m**\u001b[0m\u001b[0mkwargs\u001b[0m\u001b[0;34m)\u001b[0m\u001b[0;34m:\u001b[0m\u001b[0;34m\u001b[0m\u001b[0;34m\u001b[0m\u001b[0m\n\u001b[0;32m---> 11\u001b[0;31m     \u001b[0;32mreturn\u001b[0m \u001b[0mvgg16\u001b[0m\u001b[0;34m.\u001b[0m\u001b[0mVGG16\u001b[0m\u001b[0;34m(\u001b[0m\u001b[0;34m*\u001b[0m\u001b[0margs\u001b[0m\u001b[0;34m,\u001b[0m \u001b[0;34m**\u001b[0m\u001b[0mkwargs\u001b[0m\u001b[0;34m)\u001b[0m\u001b[0;34m\u001b[0m\u001b[0;34m\u001b[0m\u001b[0m\n\u001b[0m\u001b[1;32m     12\u001b[0m \u001b[0;34m\u001b[0m\u001b[0m\n\u001b[1;32m     13\u001b[0m \u001b[0;34m\u001b[0m\u001b[0m\n",
            "\u001b[0;32m/usr/local/lib/python3.6/dist-packages/keras_applications/vgg16.py\u001b[0m in \u001b[0;36mVGG16\u001b[0;34m(include_top, weights, input_tensor, input_shape, pooling, classes, **kwargs)\u001b[0m\n\u001b[1;32m    100\u001b[0m \u001b[0;34m\u001b[0m\u001b[0m\n\u001b[1;32m    101\u001b[0m     \u001b[0;32mif\u001b[0m \u001b[0minput_tensor\u001b[0m \u001b[0;32mis\u001b[0m \u001b[0;32mNone\u001b[0m\u001b[0;34m:\u001b[0m\u001b[0;34m\u001b[0m\u001b[0;34m\u001b[0m\u001b[0m\n\u001b[0;32m--> 102\u001b[0;31m         \u001b[0mimg_input\u001b[0m \u001b[0;34m=\u001b[0m \u001b[0mlayers\u001b[0m\u001b[0;34m.\u001b[0m\u001b[0mInput\u001b[0m\u001b[0;34m(\u001b[0m\u001b[0mshape\u001b[0m\u001b[0;34m=\u001b[0m\u001b[0minput_shape\u001b[0m\u001b[0;34m)\u001b[0m\u001b[0;34m\u001b[0m\u001b[0;34m\u001b[0m\u001b[0m\n\u001b[0m\u001b[1;32m    103\u001b[0m     \u001b[0;32melse\u001b[0m\u001b[0;34m:\u001b[0m\u001b[0;34m\u001b[0m\u001b[0;34m\u001b[0m\u001b[0m\n\u001b[1;32m    104\u001b[0m         \u001b[0;32mif\u001b[0m \u001b[0;32mnot\u001b[0m \u001b[0mbackend\u001b[0m\u001b[0;34m.\u001b[0m\u001b[0mis_keras_tensor\u001b[0m\u001b[0;34m(\u001b[0m\u001b[0minput_tensor\u001b[0m\u001b[0;34m)\u001b[0m\u001b[0;34m:\u001b[0m\u001b[0;34m\u001b[0m\u001b[0;34m\u001b[0m\u001b[0m\n",
            "\u001b[0;32m/usr/local/lib/python3.6/dist-packages/keras/engine/input_layer.py\u001b[0m in \u001b[0;36mInput\u001b[0;34m(shape, batch_shape, name, dtype, sparse, tensor)\u001b[0m\n\u001b[1;32m    176\u001b[0m                              \u001b[0mname\u001b[0m\u001b[0;34m=\u001b[0m\u001b[0mname\u001b[0m\u001b[0;34m,\u001b[0m \u001b[0mdtype\u001b[0m\u001b[0;34m=\u001b[0m\u001b[0mdtype\u001b[0m\u001b[0;34m,\u001b[0m\u001b[0;34m\u001b[0m\u001b[0;34m\u001b[0m\u001b[0m\n\u001b[1;32m    177\u001b[0m                              \u001b[0msparse\u001b[0m\u001b[0;34m=\u001b[0m\u001b[0msparse\u001b[0m\u001b[0;34m,\u001b[0m\u001b[0;34m\u001b[0m\u001b[0;34m\u001b[0m\u001b[0m\n\u001b[0;32m--> 178\u001b[0;31m                              input_tensor=tensor)\n\u001b[0m\u001b[1;32m    179\u001b[0m     \u001b[0;31m# Return tensor including _keras_shape and _keras_history.\u001b[0m\u001b[0;34m\u001b[0m\u001b[0;34m\u001b[0m\u001b[0;34m\u001b[0m\u001b[0m\n\u001b[1;32m    180\u001b[0m     \u001b[0;31m# Note that in this case train_output and test_output are the same pointer.\u001b[0m\u001b[0;34m\u001b[0m\u001b[0;34m\u001b[0m\u001b[0;34m\u001b[0m\u001b[0m\n",
            "\u001b[0;32m/usr/local/lib/python3.6/dist-packages/keras/legacy/interfaces.py\u001b[0m in \u001b[0;36mwrapper\u001b[0;34m(*args, **kwargs)\u001b[0m\n\u001b[1;32m     89\u001b[0m                 warnings.warn('Update your `' + object_name + '` call to the ' +\n\u001b[1;32m     90\u001b[0m                               'Keras 2 API: ' + signature, stacklevel=2)\n\u001b[0;32m---> 91\u001b[0;31m             \u001b[0;32mreturn\u001b[0m \u001b[0mfunc\u001b[0m\u001b[0;34m(\u001b[0m\u001b[0;34m*\u001b[0m\u001b[0margs\u001b[0m\u001b[0;34m,\u001b[0m \u001b[0;34m**\u001b[0m\u001b[0mkwargs\u001b[0m\u001b[0;34m)\u001b[0m\u001b[0;34m\u001b[0m\u001b[0;34m\u001b[0m\u001b[0m\n\u001b[0m\u001b[1;32m     92\u001b[0m         \u001b[0mwrapper\u001b[0m\u001b[0;34m.\u001b[0m\u001b[0m_original_function\u001b[0m \u001b[0;34m=\u001b[0m \u001b[0mfunc\u001b[0m\u001b[0;34m\u001b[0m\u001b[0;34m\u001b[0m\u001b[0m\n\u001b[1;32m     93\u001b[0m         \u001b[0;32mreturn\u001b[0m \u001b[0mwrapper\u001b[0m\u001b[0;34m\u001b[0m\u001b[0;34m\u001b[0m\u001b[0m\n",
            "\u001b[0;32m/usr/local/lib/python3.6/dist-packages/keras/engine/input_layer.py\u001b[0m in \u001b[0;36m__init__\u001b[0;34m(self, input_shape, batch_size, batch_input_shape, dtype, input_tensor, sparse, name)\u001b[0m\n\u001b[1;32m     37\u001b[0m         \u001b[0;32mif\u001b[0m \u001b[0;32mnot\u001b[0m \u001b[0mname\u001b[0m\u001b[0;34m:\u001b[0m\u001b[0;34m\u001b[0m\u001b[0;34m\u001b[0m\u001b[0m\n\u001b[1;32m     38\u001b[0m             \u001b[0mprefix\u001b[0m \u001b[0;34m=\u001b[0m \u001b[0;34m'input'\u001b[0m\u001b[0;34m\u001b[0m\u001b[0;34m\u001b[0m\u001b[0m\n\u001b[0;32m---> 39\u001b[0;31m             \u001b[0mname\u001b[0m \u001b[0;34m=\u001b[0m \u001b[0mprefix\u001b[0m \u001b[0;34m+\u001b[0m \u001b[0;34m'_'\u001b[0m \u001b[0;34m+\u001b[0m \u001b[0mstr\u001b[0m\u001b[0;34m(\u001b[0m\u001b[0mK\u001b[0m\u001b[0;34m.\u001b[0m\u001b[0mget_uid\u001b[0m\u001b[0;34m(\u001b[0m\u001b[0mprefix\u001b[0m\u001b[0;34m)\u001b[0m\u001b[0;34m)\u001b[0m\u001b[0;34m\u001b[0m\u001b[0;34m\u001b[0m\u001b[0m\n\u001b[0m\u001b[1;32m     40\u001b[0m         \u001b[0msuper\u001b[0m\u001b[0;34m(\u001b[0m\u001b[0mInputLayer\u001b[0m\u001b[0;34m,\u001b[0m \u001b[0mself\u001b[0m\u001b[0;34m)\u001b[0m\u001b[0;34m.\u001b[0m\u001b[0m__init__\u001b[0m\u001b[0;34m(\u001b[0m\u001b[0mdtype\u001b[0m\u001b[0;34m=\u001b[0m\u001b[0mdtype\u001b[0m\u001b[0;34m,\u001b[0m \u001b[0mname\u001b[0m\u001b[0;34m=\u001b[0m\u001b[0mname\u001b[0m\u001b[0;34m)\u001b[0m\u001b[0;34m\u001b[0m\u001b[0;34m\u001b[0m\u001b[0m\n\u001b[1;32m     41\u001b[0m \u001b[0;34m\u001b[0m\u001b[0m\n",
            "\u001b[0;32m/usr/local/lib/python3.6/dist-packages/keras/backend/tensorflow_backend.py\u001b[0m in \u001b[0;36mget_uid\u001b[0;34m(prefix)\u001b[0m\n\u001b[1;32m     84\u001b[0m     \"\"\"\n\u001b[1;32m     85\u001b[0m     \u001b[0;32mglobal\u001b[0m \u001b[0m_GRAPH_UID_DICTS\u001b[0m\u001b[0;34m\u001b[0m\u001b[0;34m\u001b[0m\u001b[0m\n\u001b[0;32m---> 86\u001b[0;31m     \u001b[0mgraph\u001b[0m \u001b[0;34m=\u001b[0m \u001b[0m_get_default_graph\u001b[0m\u001b[0;34m(\u001b[0m\u001b[0;34m)\u001b[0m\u001b[0;34m\u001b[0m\u001b[0;34m\u001b[0m\u001b[0m\n\u001b[0m\u001b[1;32m     87\u001b[0m     \u001b[0;32mif\u001b[0m \u001b[0mgraph\u001b[0m \u001b[0;32mnot\u001b[0m \u001b[0;32min\u001b[0m \u001b[0m_GRAPH_UID_DICTS\u001b[0m\u001b[0;34m:\u001b[0m\u001b[0;34m\u001b[0m\u001b[0;34m\u001b[0m\u001b[0m\n\u001b[1;32m     88\u001b[0m         \u001b[0m_GRAPH_UID_DICTS\u001b[0m\u001b[0;34m[\u001b[0m\u001b[0mgraph\u001b[0m\u001b[0;34m]\u001b[0m \u001b[0;34m=\u001b[0m \u001b[0mdefaultdict\u001b[0m\u001b[0;34m(\u001b[0m\u001b[0mint\u001b[0m\u001b[0;34m)\u001b[0m\u001b[0;34m\u001b[0m\u001b[0;34m\u001b[0m\u001b[0m\n",
            "\u001b[0;32m/usr/local/lib/python3.6/dist-packages/keras/backend/tensorflow_backend.py\u001b[0m in \u001b[0;36m_get_default_graph\u001b[0;34m()\u001b[0m\n\u001b[1;32m     67\u001b[0m     \u001b[0;32mexcept\u001b[0m \u001b[0mAttributeError\u001b[0m\u001b[0;34m:\u001b[0m\u001b[0;34m\u001b[0m\u001b[0;34m\u001b[0m\u001b[0m\n\u001b[1;32m     68\u001b[0m         raise RuntimeError(\n\u001b[0;32m---> 69\u001b[0;31m             \u001b[0;34m'It looks like you are trying to use '\u001b[0m\u001b[0;34m\u001b[0m\u001b[0;34m\u001b[0m\u001b[0m\n\u001b[0m\u001b[1;32m     70\u001b[0m             \u001b[0;34m'a version of multi-backend Keras that '\u001b[0m\u001b[0;34m\u001b[0m\u001b[0;34m\u001b[0m\u001b[0m\n\u001b[1;32m     71\u001b[0m             \u001b[0;34m'does not support TensorFlow 2.0. We recommend '\u001b[0m\u001b[0;34m\u001b[0m\u001b[0;34m\u001b[0m\u001b[0m\n",
            "\u001b[0;31mRuntimeError\u001b[0m: It looks like you are trying to use a version of multi-backend Keras that does not support TensorFlow 2.0. We recommend using `tf.keras`, or alternatively, downgrading to TensorFlow 1.14."
          ]
        }
      ]
    },
    {
      "cell_type": "code",
      "metadata": {
        "id": "IN9mki7OI9ta",
        "colab_type": "code",
        "colab": {}
      },
      "source": [
        "def train_FC_model():\n",
        "    datagen_top = ImageDataGenerator(rescale=1. / 255)\n",
        "    generator_top = datagen_top.flow_from_directory(\n",
        "        train_data_dir,\n",
        "        target_size=(img_width, img_height),\n",
        "        batch_size=batch_size,\n",
        "        class_mode='categorical',\n",
        "        shuffle=False)\n",
        "\n",
        "    nb_train_samples = len(generator_top.filenames)\n",
        "    num_classes = len(generator_top.class_indices)\n",
        "\n",
        "    # save the class indices to use use later in predictions\n",
        "    np.save('class_indices.npy', generator_top.class_indices)\n",
        "\n",
        "    # load the bottleneck features saved earlier\n",
        "    train_data = np.load('bottleneck_features_train.npy')\n",
        "\n",
        "    # get the class lebels for the training data, in the original order\n",
        "    train_labels = generator_top.classes\n",
        "\n",
        "    # https://github.com/fchollet/keras/issues/3467\n",
        "    # convert the training labels to categorical vectors\n",
        "    train_labels = to_categorical(train_labels, num_classes=num_classes)\n",
        "\n",
        "    generator_top = datagen_top.flow_from_directory(\n",
        "        validation_data_dir,\n",
        "        target_size=(img_width, img_height),\n",
        "        batch_size=batch_size,\n",
        "        class_mode=None,\n",
        "        shuffle=False)\n",
        "\n",
        "    nb_validation_samples = len(generator_top.filenames)\n",
        "\n",
        "    validation_data = np.load('bottleneck_features_validation.npy')\n",
        "\n",
        "    validation_labels = generator_top.classes\n",
        "    validation_labels = to_categorical(\n",
        "        validation_labels, num_classes=num_classes)\n",
        "\n",
        "    model = Sequential()\n",
        "    model.add(Flatten(input_shape=train_data.shape[1:]))\n",
        "    model.add(Dense(256, activation='relu'))\n",
        "    model.add(Dropout(0.5))\n",
        "    \n",
        "    #model.add(Dense(num_classes, activation='sigmoid'))  # to get class prediction\n",
        "\n",
        "    model.add(Dense(num_classes, activation='softmax'))   # to get probability prediction\n",
        "    \n",
        "    model.compile(optimizer='rmsprop',\n",
        "                  loss='categorical_crossentropy', metrics=['accuracy'])\n",
        "\n",
        "    history = model.fit(train_data, train_labels,\n",
        "                        epochs=epochs,\n",
        "                        batch_size=batch_size,\n",
        "                        validation_data=(validation_data, validation_labels))\n",
        "\n",
        "    model.save_weights(top_model_weights_path)\n",
        "\n",
        "    (eval_loss, eval_accuracy) = model.evaluate(\n",
        "        validation_data, validation_labels, batch_size=batch_size, verbose=1)\n",
        "\n",
        "    print(\"[INFO] accuracy: {:.2f}%\".format(eval_accuracy * 100))\n",
        "    print(\"[INFO] Loss: {}\".format(eval_loss))\n",
        "\n",
        "    plt.figure(1)\n",
        "\n",
        "    # summarize history for accuracy\n",
        "\n",
        "    plt.subplot(211)\n",
        "    plt.plot(history.history['acc'])\n",
        "    plt.plot(history.history['val_acc'])\n",
        "    plt.title('model accuracy')\n",
        "    plt.ylabel('accuracy')\n",
        "    plt.xlabel('epoch')\n",
        "    plt.legend(['train', 'test'], loc='upper left')\n",
        "\n",
        "    # summarize history for loss\n",
        "\n",
        "    plt.subplot(212)\n",
        "    plt.plot(history.history['loss'])\n",
        "    plt.plot(history.history['val_loss'])\n",
        "    plt.title('model loss')\n",
        "    plt.ylabel('loss')\n",
        "    plt.xlabel('epoch')\n",
        "    plt.legend(['train', 'test'], loc='upper left')\n",
        "    plt.show()"
      ],
      "execution_count": 0,
      "outputs": []
    },
    {
      "cell_type": "code",
      "metadata": {
        "id": "QHdHr_jBI9qf",
        "colab_type": "code",
        "outputId": "c84bad93-c9ae-4ed8-dc65-2e9c02eb9975",
        "colab": {
          "base_uri": "https://localhost:8080/",
          "height": 1000
        }
      },
      "source": [
        "train_FC_model()"
      ],
      "execution_count": 0,
      "outputs": [
        {
          "output_type": "stream",
          "text": [
            "Found 7346 images belonging to 12 classes.\n",
            "Found 1843 images belonging to 12 classes.\n",
            "WARNING:tensorflow:From /usr/local/lib/python3.6/dist-packages/keras/backend/tensorflow_backend.py:148: The name tf.placeholder_with_default is deprecated. Please use tf.compat.v1.placeholder_with_default instead.\n",
            "\n",
            "WARNING:tensorflow:From /usr/local/lib/python3.6/dist-packages/keras/backend/tensorflow_backend.py:3733: calling dropout (from tensorflow.python.ops.nn_ops) with keep_prob is deprecated and will be removed in a future version.\n",
            "Instructions for updating:\n",
            "Please use `rate` instead of `keep_prob`. Rate should be set to `rate = 1 - keep_prob`.\n",
            "WARNING:tensorflow:From /usr/local/lib/python3.6/dist-packages/keras/optimizers.py:793: The name tf.train.Optimizer is deprecated. Please use tf.compat.v1.train.Optimizer instead.\n",
            "\n",
            "WARNING:tensorflow:From /usr/local/lib/python3.6/dist-packages/keras/backend/tensorflow_backend.py:3576: The name tf.log is deprecated. Please use tf.math.log instead.\n",
            "\n",
            "WARNING:tensorflow:From /usr/local/lib/python3.6/dist-packages/tensorflow_core/python/ops/math_grad.py:1424: where (from tensorflow.python.ops.array_ops) is deprecated and will be removed in a future version.\n",
            "Instructions for updating:\n",
            "Use tf.where in 2.0, which has the same broadcast rule as np.where\n",
            "WARNING:tensorflow:From /usr/local/lib/python3.6/dist-packages/keras/backend/tensorflow_backend.py:1033: The name tf.assign_add is deprecated. Please use tf.compat.v1.assign_add instead.\n",
            "\n",
            "WARNING:tensorflow:From /usr/local/lib/python3.6/dist-packages/keras/backend/tensorflow_backend.py:1020: The name tf.assign is deprecated. Please use tf.compat.v1.assign instead.\n",
            "\n",
            "Train on 7346 samples, validate on 1843 samples\n",
            "Epoch 1/50\n",
            "7346/7346 [==============================] - 6s 821us/step - loss: 0.6302 - acc: 0.8801 - val_loss: 0.0549 - val_acc: 0.9837\n",
            "Epoch 2/50\n",
            "7346/7346 [==============================] - 5s 725us/step - loss: 0.1432 - acc: 0.9645 - val_loss: 0.0270 - val_acc: 0.9940\n",
            "Epoch 3/50\n",
            "7346/7346 [==============================] - 5s 717us/step - loss: 0.1043 - acc: 0.9751 - val_loss: 0.0242 - val_acc: 0.9951\n",
            "Epoch 4/50\n",
            "7346/7346 [==============================] - 5s 728us/step - loss: 0.1045 - acc: 0.9792 - val_loss: 0.0223 - val_acc: 0.9957\n",
            "Epoch 5/50\n",
            "7346/7346 [==============================] - 5s 726us/step - loss: 0.0810 - acc: 0.9830 - val_loss: 0.0256 - val_acc: 0.9946\n",
            "Epoch 6/50\n",
            "7346/7346 [==============================] - 5s 713us/step - loss: 0.0636 - acc: 0.9853 - val_loss: 0.0223 - val_acc: 0.9957\n",
            "Epoch 7/50\n",
            "7346/7346 [==============================] - 5s 723us/step - loss: 0.0642 - acc: 0.9872 - val_loss: 0.0445 - val_acc: 0.9913\n",
            "Epoch 8/50\n",
            "7346/7346 [==============================] - 5s 718us/step - loss: 0.0598 - acc: 0.9891 - val_loss: 0.0222 - val_acc: 0.9967\n",
            "Epoch 9/50\n",
            "7346/7346 [==============================] - 5s 711us/step - loss: 0.0587 - acc: 0.9887 - val_loss: 0.0262 - val_acc: 0.9946\n",
            "Epoch 10/50\n",
            "7346/7346 [==============================] - 5s 724us/step - loss: 0.0594 - acc: 0.9905 - val_loss: 0.0232 - val_acc: 0.9967\n",
            "Epoch 11/50\n",
            "7346/7346 [==============================] - 5s 729us/step - loss: 0.0524 - acc: 0.9902 - val_loss: 0.0337 - val_acc: 0.9957\n",
            "Epoch 12/50\n",
            "7346/7346 [==============================] - 5s 720us/step - loss: 0.0403 - acc: 0.9925 - val_loss: 0.0215 - val_acc: 0.9962\n",
            "Epoch 13/50\n",
            "7346/7346 [==============================] - 5s 730us/step - loss: 0.0372 - acc: 0.9935 - val_loss: 0.0143 - val_acc: 0.9962\n",
            "Epoch 14/50\n",
            "7346/7346 [==============================] - 5s 723us/step - loss: 0.0351 - acc: 0.9936 - val_loss: 0.0289 - val_acc: 0.9957\n",
            "Epoch 15/50\n",
            "7346/7346 [==============================] - 5s 712us/step - loss: 0.0365 - acc: 0.9922 - val_loss: 0.0330 - val_acc: 0.9957\n",
            "Epoch 16/50\n",
            "7346/7346 [==============================] - 5s 720us/step - loss: 0.0347 - acc: 0.9936 - val_loss: 0.0314 - val_acc: 0.9967\n",
            "Epoch 17/50\n",
            "7346/7346 [==============================] - 5s 714us/step - loss: 0.0392 - acc: 0.9921 - val_loss: 0.0342 - val_acc: 0.9962\n",
            "Epoch 18/50\n",
            "7346/7346 [==============================] - 5s 707us/step - loss: 0.0399 - acc: 0.9943 - val_loss: 0.0255 - val_acc: 0.9962\n",
            "Epoch 19/50\n",
            "7346/7346 [==============================] - 5s 713us/step - loss: 0.0384 - acc: 0.9939 - val_loss: 0.0216 - val_acc: 0.9973\n",
            "Epoch 20/50\n",
            "7346/7346 [==============================] - 5s 718us/step - loss: 0.0389 - acc: 0.9935 - val_loss: 0.0172 - val_acc: 0.9962\n",
            "Epoch 21/50\n",
            "7346/7346 [==============================] - 5s 723us/step - loss: 0.0117 - acc: 0.9970 - val_loss: 0.0498 - val_acc: 0.9946\n",
            "Epoch 22/50\n",
            "7346/7346 [==============================] - 5s 731us/step - loss: 0.0383 - acc: 0.9941 - val_loss: 0.0463 - val_acc: 0.9940\n",
            "Epoch 23/50\n",
            "7346/7346 [==============================] - 5s 715us/step - loss: 0.0348 - acc: 0.9951 - val_loss: 0.0434 - val_acc: 0.9957\n",
            "Epoch 24/50\n",
            "7346/7346 [==============================] - 5s 718us/step - loss: 0.0274 - acc: 0.9948 - val_loss: 0.0228 - val_acc: 0.9967\n",
            "Epoch 25/50\n",
            "7346/7346 [==============================] - 5s 748us/step - loss: 0.0291 - acc: 0.9952 - val_loss: 0.0198 - val_acc: 0.9957\n",
            "Epoch 26/50\n",
            "7346/7346 [==============================] - 5s 744us/step - loss: 0.0349 - acc: 0.9943 - val_loss: 0.0254 - val_acc: 0.9962\n",
            "Epoch 27/50\n",
            "7346/7346 [==============================] - 6s 755us/step - loss: 0.0260 - acc: 0.9961 - val_loss: 0.0310 - val_acc: 0.9957\n",
            "Epoch 28/50\n",
            "7346/7346 [==============================] - 5s 723us/step - loss: 0.0238 - acc: 0.9958 - val_loss: 0.0408 - val_acc: 0.9957\n",
            "Epoch 29/50\n",
            "7346/7346 [==============================] - 5s 729us/step - loss: 0.0253 - acc: 0.9955 - val_loss: 0.0607 - val_acc: 0.9940\n",
            "Epoch 30/50\n",
            "7346/7346 [==============================] - 5s 724us/step - loss: 0.0193 - acc: 0.9973 - val_loss: 0.0216 - val_acc: 0.9973\n",
            "Epoch 31/50\n",
            "7346/7346 [==============================] - 5s 722us/step - loss: 0.0211 - acc: 0.9965 - val_loss: 0.0311 - val_acc: 0.9957\n",
            "Epoch 32/50\n",
            "7346/7346 [==============================] - 5s 728us/step - loss: 0.0260 - acc: 0.9955 - val_loss: 0.0091 - val_acc: 0.9989\n",
            "Epoch 33/50\n",
            "7346/7346 [==============================] - 5s 729us/step - loss: 0.0289 - acc: 0.9961 - val_loss: 0.0188 - val_acc: 0.9967\n",
            "Epoch 34/50\n",
            "7346/7346 [==============================] - 5s 715us/step - loss: 0.0154 - acc: 0.9973 - val_loss: 0.0361 - val_acc: 0.9967\n",
            "Epoch 35/50\n",
            "7346/7346 [==============================] - 5s 734us/step - loss: 0.0324 - acc: 0.9951 - val_loss: 0.0227 - val_acc: 0.9973\n",
            "Epoch 36/50\n",
            "7346/7346 [==============================] - 5s 712us/step - loss: 0.0253 - acc: 0.9967 - val_loss: 0.0097 - val_acc: 0.9989\n",
            "Epoch 37/50\n",
            "7346/7346 [==============================] - 5s 719us/step - loss: 0.0302 - acc: 0.9951 - val_loss: 0.0207 - val_acc: 0.9973\n",
            "Epoch 38/50\n",
            "7346/7346 [==============================] - 5s 716us/step - loss: 0.0150 - acc: 0.9975 - val_loss: 0.0086 - val_acc: 0.9973\n",
            "Epoch 39/50\n",
            "7346/7346 [==============================] - 5s 728us/step - loss: 0.0275 - acc: 0.9961 - val_loss: 0.0200 - val_acc: 0.9984\n",
            "Epoch 40/50\n",
            "7346/7346 [==============================] - 5s 728us/step - loss: 0.0294 - acc: 0.9963 - val_loss: 0.0191 - val_acc: 0.9978\n",
            "Epoch 41/50\n",
            "7346/7346 [==============================] - 5s 719us/step - loss: 0.0128 - acc: 0.9981 - val_loss: 0.0088 - val_acc: 0.9995\n",
            "Epoch 42/50\n",
            "7346/7346 [==============================] - 5s 736us/step - loss: 0.0093 - acc: 0.9978 - val_loss: 0.0197 - val_acc: 0.9967\n",
            "Epoch 43/50\n",
            "7346/7346 [==============================] - 6s 752us/step - loss: 0.0143 - acc: 0.9977 - val_loss: 0.0148 - val_acc: 0.9984\n",
            "Epoch 44/50\n",
            "7346/7346 [==============================] - 6s 753us/step - loss: 0.0216 - acc: 0.9963 - val_loss: 0.0074 - val_acc: 0.9995\n",
            "Epoch 45/50\n",
            "7346/7346 [==============================] - 5s 729us/step - loss: 0.0161 - acc: 0.9970 - val_loss: 0.0193 - val_acc: 0.9978\n",
            "Epoch 46/50\n",
            "7346/7346 [==============================] - 5s 720us/step - loss: 0.0157 - acc: 0.9980 - val_loss: 0.0170 - val_acc: 0.9984\n",
            "Epoch 47/50\n",
            "7346/7346 [==============================] - 5s 720us/step - loss: 0.0100 - acc: 0.9974 - val_loss: 0.0140 - val_acc: 0.9978\n",
            "Epoch 48/50\n",
            "7346/7346 [==============================] - 5s 741us/step - loss: 0.0152 - acc: 0.9978 - val_loss: 0.0093 - val_acc: 0.9989\n",
            "Epoch 49/50\n",
            "7346/7346 [==============================] - 5s 709us/step - loss: 0.0202 - acc: 0.9978 - val_loss: 0.0202 - val_acc: 0.9973\n",
            "Epoch 50/50\n",
            "7346/7346 [==============================] - 5s 720us/step - loss: 0.0200 - acc: 0.9970 - val_loss: 0.0105 - val_acc: 0.9978\n",
            "1843/1843 [==============================] - 0s 187us/step\n",
            "[INFO] accuracy: 99.78%\n",
            "[INFO] Loss: 0.010475058314116855\n"
          ],
          "name": "stdout"
        },
        {
          "output_type": "display_data",
          "data": {
            "image/png": "[encoded data removed]",
            "text/plain": [
              "<Figure size 432x288 with 2 Axes>"
            ]
          },
          "metadata": {
            "tags": []
          }
        }
      ]
    },
    {
      "cell_type": "code",
      "metadata": {
        "id": "7lifT5-QVJg5",
        "colab_type": "code",
        "colab": {
          "base_uri": "https://localhost:8080/",
          "height": 187
        },
        "outputId": "05f24ac5-e184-49ad-aa93-019ac185a0ae"
      },
      "source": [
        "!pip install PyPDF2\n",
        "import PyPDF2\n",
        "import os\n",
        "import tensorflow\n",
        "import sys\n",
        "from tensorflow import keras\n",
        "from keras.models import load_model\n",
        "#import numpy as np\n",
        "from keras.layers import Conv2D, MaxPooling2D, ZeroPadding2D\n",
        "from keras.layers import Dense, Activation, Dropout, Flatten\n",
        "from keras import optimizers\n",
        "from keras.models import Sequential\n",
        "from keras.preprocessing.image import ImageDataGenerator\n",
        "from PIL import Image\n",
        "import cv2\n"
      ],
      "execution_count": 3,
      "outputs": [
        {
          "output_type": "stream",
          "text": [
            "Collecting PyPDF2\n",
            "\u001b[?25l  Downloading https://files.pythonhosted.org/packages/b4/01/68fcc0d43daf4c6bdbc6b33cc3f77bda531c86b174cac56ef0ffdb96faab/PyPDF2-1.26.0.tar.gz (77kB)\n",
            "\r\u001b[K     |████▎                           | 10kB 21.0MB/s eta 0:00:01\r\u001b[K     |████████▌                       | 20kB 4.4MB/s eta 0:00:01\r\u001b[K     |████████████▊                   | 30kB 6.1MB/s eta 0:00:01\r\u001b[K     |█████████████████               | 40kB 7.7MB/s eta 0:00:01\r\u001b[K     |█████████████████████▏          | 51kB 5.1MB/s eta 0:00:01\r\u001b[K     |█████████████████████████▍      | 61kB 6.0MB/s eta 0:00:01\r\u001b[K     |█████████████████████████████▋  | 71kB 6.8MB/s eta 0:00:01\r\u001b[K     |████████████████████████████████| 81kB 4.1MB/s \n",
            "\u001b[?25hBuilding wheels for collected packages: PyPDF2\n",
            "  Building wheel for PyPDF2 (setup.py) ... \u001b[?25l\u001b[?25hdone\n",
            "  Created wheel for PyPDF2: filename=PyPDF2-1.26.0-cp36-none-any.whl size=61085 sha256=f64b3e57b6756c43805eeca2b02379118a76f49ed1f87b7bbcfd6afbb5248d9c\n",
            "  Stored in directory: /root/.cache/pip/wheels/53/84/19/35bc977c8bf5f0c23a8a011aa958acd4da4bbd7a229315c1b7\n",
            "Successfully built PyPDF2\n",
            "Installing collected packages: PyPDF2\n",
            "Successfully installed PyPDF2-1.26.0\n"
          ],
          "name": "stdout"
        }
      ]
    },
    {
      "cell_type": "code",
      "metadata": {
        "id": "TRyUaGXPWNt0",
        "colab_type": "code",
        "colab": {}
      },
      "source": [
        "def process_img(img):\n",
        "    img = img.resize((150, 150))  # resize the image\n",
        "    img = np.array(img)\n",
        "    #img = img / np.max(img).astype(float)\n",
        "    img = np.reshape(img, [1, 150, 150, 3])\n",
        "    return img"
      ],
      "execution_count": 0,
      "outputs": []
    },
    {
      "cell_type": "code",
      "metadata": {
        "id": "b7feX7WgI9fo",
        "colab_type": "code",
        "colab": {}
      },
      "source": [
        "def predict(image_path):\n",
        "    # load the class_indices saved in the earlier step\n",
        "    class_dictionary = np.load('class_indices.npy',allow_pickle=True).item()\n",
        "\n",
        "    num_classes = len(class_dictionary)\n",
        "\n",
        "    #load and pre-process the image\n",
        "    #orig = cv2.imread(image_path)\n",
        "    print(\"[INFO] loading and preprocessing image...\")\n",
        "    image = load_img(image_path, target_size=(224, 224))\n",
        "    image = img_to_array(image)\n",
        "\n",
        "    # Rescale the image, this is important, otherwise the predictions will be '0'\n",
        "    # This is because ImageDataGenerator set rescale=1. / 255, \n",
        "    # which means all data is re-scaled from a [0 - 255] range to [0 - 1.0]\n",
        "    image = image / 255\n",
        "    image = np.expand_dims(image, axis=0)\n",
        "\n",
        "    \n",
        "    # build the VGG16 network\n",
        "    model = applications.VGG16(include_top=False, weights='imagenet')\n",
        "\n",
        "    # get the bottleneck prediction from the pre-trained VGG16 model\n",
        "    bottleneck_prediction = model.predict(image)\n",
        "    #print(bottleneck_prediction)\n",
        "\n",
        "    # build top FC model block\n",
        "    model = Sequential()\n",
        "    model.add(Flatten(input_shape=bottleneck_prediction.shape[1:]))\n",
        "    model.add(Dense(256, activation='relu'))\n",
        "    model.add(Dropout(0.5))\n",
        "\n",
        "    #model.add(Dense(num_classes, activation='sigmoid'))  # to get class prediction\n",
        "    model.add(Dense(num_classes, activation='softmax'))   # to get probability prediction\n",
        "    \n",
        "    model.load_weights(top_model_weights_path)\n",
        "\n",
        "    # use the bottleneck prediction on the FC model to get the final classification\n",
        "    class_predicted = model.predict_classes(bottleneck_prediction)\n",
        "\n",
        "    #proba = model.predict_proba(bottleneck_prediction)\n",
        "    \n",
        "    output_y = model.predict(bottleneck_prediction)\n",
        "\n",
        "    inID = class_predicted[0]\n",
        "\n",
        "    inv_map = {v: k for k, v in class_dictionary.items()}\n",
        "\n",
        "    label = inv_map[inID]\n",
        "\n",
        "    # get the prediction label\n",
        "    print(\"Prediction: class ID: {}, Label: {}\".format(inID, label))\n",
        "    \n",
        "    #print(proba)\n",
        "    pos = -1\n",
        "    count = 0\n",
        "    maximum = max(output_y[0])\n",
        "    predict1 = {}\n",
        "    for i in range(len(output_y[0])):\n",
        "        predict1[inv_map[i]] = output_y[0][i]\n",
        "        if maximum == prediction[0][i]:\n",
        "          pos = i\n",
        "          count = count + 1\n",
        "        elif maximum * 0.222 < prediction[0][i]:\n",
        "          count = count + 1\n",
        "    if count > 1:\n",
        "        print(\"Not Found\")\n",
        "        writer.addBookmark(\"Not Found\",Page_No, parent=PARENT)\n",
        "    else:\n",
        "        print(CATEGORIES[pos])\n",
        "        writer.addBookmark(CATEGORIES[pos], Page_No, parent=CATEGORIT[pos])\n",
        "\n",
        "    print('sum of probability = {0}'.format(sum(output_y[0])))\n",
        "    \n",
        "    \n",
        "\n",
        "    # display the predictions with the image\n",
        "    '''\n",
        "    cv2.putText(orig, \"Predicted: {}\".format(label), (10, 30),\n",
        "                cv2.FONT_HERSHEY_PLAIN, 1.5, (43, 99, 255), 2)\n",
        "\n",
        "    cv2.imshow(\"Classification\", orig)\n",
        "    cv2.waitKey(0)\n",
        "    cv2.destroyAllWindows()\n",
        "    '''\n",
        "    return output_y"
      ],
      "execution_count": 0,
      "outputs": []
    },
    {
      "cell_type": "code",
      "metadata": {
        "id": "vt5-0TBjWaiV",
        "colab_type": "code",
        "colab": {}
      },
      "source": [
        "def Enter_Required_Data():\n",
        "\n",
        "    Message1 = \"Enter PDF Source Path (End with /,Example: C:/User/Admin/Documents/):\"\n",
        "    Message2 = \"Enter PDF name (Example: Henry.pdf)\"\n",
        "    print(Message1)\n",
        "    pdf_source = input()\n",
        "    print(Message2)\n",
        "    File_Name = input()\n",
        "    return File_Name, pdf_source"
      ],
      "execution_count": 0,
      "outputs": []
    },
    {
      "cell_type": "code",
      "metadata": {
        "id": "50hs_XmTW8-t",
        "colab_type": "code",
        "colab": {}
      },
      "source": [
        "def Pdf_data_Extractor(File_Name, pdf_source):\n",
        "\n",
        "    Png_conversion_Script = \"/content/drive/My Drive/Splitter\"\n",
        "    Pdf_Source_File_Name = pdf_source + File_Name\n",
        "\n",
        "    reader = PyPDF2.PdfFileReader(Pdf_Source_File_Name)\n",
        "    writer = PyPDF2.PdfFileWriter()\n",
        "\n",
        "    File_Name = File_Name.split('.')[0]\n",
        "    #os.mkdir(pdf_source+\"Temp\")\n",
        "    Total_Number_of_Pages = reader.getNumPages()\n",
        "    for Pg_No in range(0,Total_Number_of_Pages):\n",
        "        Temporary_Directory = pdf_source + \"Temp/\" + File_Name+str(Pg_No)\n",
        "        writer.addPage(reader.getPage(Pg_No))\n",
        "        Command = \"{} -f {} -l {} {} {}\".format(Png_conversion_Script, Pg_No+1, Pg_No+1, Pdf_Source_File_Name, Temporary_Directory)\n",
        "        #os.system(Command)\n",
        "        print(Command)\n",
        "    return writer,Total_Number_of_Pages"
      ],
      "execution_count": 0,
      "outputs": []
    },
    {
      "cell_type": "code",
      "metadata": {
        "id": "EPAzpGQ_XNGx",
        "colab_type": "code",
        "colab": {}
      },
      "source": [
        "def prediction_And_Bookmark(writer,Total_Number_of_Pages, source_name, file_name):\n",
        "\n",
        "    CATEGORIES = os.listdir('/content/drive/My Drive/TBird/DOCS/train')\n",
        "    CATEGORIT=[]\n",
        "    for g in range(0, int(13)):\n",
        "        if (g<12):\n",
        "            CATEG =writer.addBookmark(CATEGORIES[g], 0, color=(1,0,0), bold=True)\n",
        "            CATEGORIT.append(CATEG)\n",
        "        else:\n",
        "            PARENT = writer.addBookmark(\"MISC DOCS\", 0,color=(0,0,0), bold=True)\n",
        "\n",
        "    List_of_images = os.listdir(source_name+\"/Temp/\")\n",
        "    List_of_images.sort()\n",
        "    b=0\n",
        "    for Page_No, Img in enumerate(List_of_images):\n",
        "        ###############################################\n",
        "        \"\"\"Prediction Code Here returns pos\"\"\"\n",
        "        b=b+1\n",
        "        print(b)\n",
        "\n",
        "        test_image = Image.open(source_name+\"/Temp/\"+Img)\n",
        "        test_imag =source_name+\"/Temp/\"+Img\n",
        "        print(test_imag)\n",
        "        #test_image = process_img(test_image)\n",
        "        prediction = predict(test_imag)\n",
        "        print(prediction, Img)\n",
        "        pos = -1\n",
        "        count = 0\n",
        "        maximum = max(prediction[0])\n",
        "\n",
        "#        for i in range(0, len(prediction[0])):\n",
        "#            if maximum == prediction[0][i]:\n",
        "#                pos = i\n",
        "#                count = count + 1\n",
        "#            elif maximum * 0.222 < prediction[0][i]:\n",
        "#                count = count + 1\n",
        "#        if count > 1:\n",
        "#            print(\"Not Found\")\n",
        "\n",
        "#            writer.addBookmark(\"Not Found\",Page_No, parent=PARENT)\n",
        "\n",
        "#        else:\n",
        "#            print(CATEGORIES[pos])\n",
        "#            writer.addBookmark(CATEGORIES[pos], Page_No, parent=CATEGORIT[pos])\n",
        "\n",
        "    sys.setrecursionlimit(2000)\n",
        "    with open(source_name+file_name.split(\".\")[0]+\"ReBookmarked.pdf\",\"wb\") as out:\n",
        "        writer.write(out)"
      ],
      "execution_count": 0,
      "outputs": []
    },
    {
      "cell_type": "code",
      "metadata": {
        "id": "td3jxLdQck-0",
        "colab_type": "code",
        "colab": {}
      },
      "source": [
        "def Remove_Temp_Files(pdf_source):\n",
        "   for x in os.listdir(pdf_source+\"Temp\"):\n",
        "       os.remove(pdf_source+\"Temp/\"+x)\n",
        "   os.removedirs(pdf_source+\"Temp\")\n",
        "    #os.removedirs(pdf_source+\"Temp\")\n",
        "   print(\"Removed Temp Folder\")"
      ],
      "execution_count": 0,
      "outputs": []
    },
    {
      "cell_type": "code",
      "metadata": {
        "id": "SN2iWYJ-cuzt",
        "colab_type": "code",
        "colab": {}
      },
      "source": [
        "def main():\n",
        "    File_Name, pdf_source = Enter_Required_Data()\n",
        "    Source_Name = pdf_source + File_Name\n",
        "\n",
        "    writer, Total_Number_of_Pages = Pdf_data_Extractor(File_Name, pdf_source)\n",
        "\n",
        "    prediction_And_Bookmark(writer, Total_Number_of_Pages, pdf_source,File_Name)\n",
        "\n",
        "    #Remove_Temp_Files(pdf_source)"
      ],
      "execution_count": 0,
      "outputs": []
    },
    {
      "cell_type": "code",
      "metadata": {
        "id": "qgU-SMZpc34q",
        "colab_type": "code",
        "outputId": "e4d3cfc6-b5cb-4b2f-900d-fff9af2ade30",
        "colab": {
          "base_uri": "https://localhost:8080/",
          "height": 53
        }
      },
      "source": [
        "\n",
        "if __name__ == \"__main__\":\n",
        "  main()"
      ],
      "execution_count": 0,
      "outputs": [
        {
          "output_type": "stream",
          "text": [
            "Enter PDF Source Path (End with /,Example: C:/User/Admin/Documents/):\n"
          ],
          "name": "stdout"
        }
      ]
    },
    {
      "cell_type": "code",
      "metadata": {
        "id": "FpT1ryw4KRMc",
        "colab_type": "code",
        "colab": {}
      },
      "source": [
        "# add the path to your test image below\n",
        "image_path = './data/Document_PNG/validation/Bank Statement/Chase-bank-statement-2.png'\n",
        "predict(image_path)\n",
        "\n",
        "#cv2.destroyAllWindows()"
      ],
      "execution_count": 0,
      "outputs": []
    },
    {
      "cell_type": "code",
      "metadata": {
        "id": "NmMSbrk3Fywa",
        "colab_type": "code",
        "outputId": "b9bcfc28-d057-4001-91c4-20b957279a65",
        "colab": {
          "base_uri": "https://localhost:8080/",
          "height": 1000
        }
      },
      "source": [
        "\n",
        "\n",
        "# add the path to your test image below\n",
        "image_path = '/content/drive/My Drive/TBird/DOCS/train/1003/BALDWIN1-000002.png'\n",
        "predict(image_path)\n",
        "\n",
        "#cv2.destroyAllWindows()"
      ],
      "execution_count": 0,
      "outputs": [
        {
          "output_type": "stream",
          "text": [
            "[INFO] loading and preprocessing image...\n",
            "[[[[0.         0.         0.         ... 0.         0.5832435\n",
            "    0.        ]\n",
            "   [0.         0.         0.         ... 0.         0.24042511\n",
            "    0.        ]\n",
            "   [0.         0.         0.03893572 ... 0.         0.31317526\n",
            "    0.        ]\n",
            "   ...\n",
            "   [0.         0.         0.         ... 0.         0.26427186\n",
            "    0.        ]\n",
            "   [0.         0.         0.         ... 0.         0.25254652\n",
            "    0.        ]\n",
            "   [0.         0.         0.         ... 0.         0.57497525\n",
            "    0.        ]]\n",
            "\n",
            "  [[0.         0.         0.         ... 0.         0.69911414\n",
            "    0.        ]\n",
            "   [0.         0.         0.         ... 0.         0.5438157\n",
            "    0.        ]\n",
            "   [0.         0.         0.         ... 0.         0.48348218\n",
            "    0.        ]\n",
            "   ...\n",
            "   [0.         0.         0.         ... 0.         0.6424187\n",
            "    0.        ]\n",
            "   [0.         0.         0.         ... 0.         0.65076196\n",
            "    0.        ]\n",
            "   [0.         0.         0.         ... 0.         0.8694168\n",
            "    0.        ]]\n",
            "\n",
            "  [[0.         0.         0.         ... 0.         0.6548303\n",
            "    0.        ]\n",
            "   [0.         0.         0.         ... 0.         0.45532364\n",
            "    0.        ]\n",
            "   [0.         0.         0.         ... 0.         0.46964157\n",
            "    0.        ]\n",
            "   ...\n",
            "   [0.         0.         0.         ... 0.         0.45366272\n",
            "    0.        ]\n",
            "   [0.         0.         0.         ... 0.         0.5675098\n",
            "    0.        ]\n",
            "   [0.         0.         0.         ... 0.         0.8813515\n",
            "    0.        ]]\n",
            "\n",
            "  ...\n",
            "\n",
            "  [[0.         0.         0.         ... 0.         0.51180464\n",
            "    0.        ]\n",
            "   [0.         0.         0.         ... 0.         0.47698963\n",
            "    0.        ]\n",
            "   [0.         0.         0.         ... 0.         0.5571052\n",
            "    0.        ]\n",
            "   ...\n",
            "   [0.         0.         0.         ... 0.         0.5338672\n",
            "    0.        ]\n",
            "   [0.         0.         0.         ... 0.         0.5397569\n",
            "    0.        ]\n",
            "   [0.         0.         0.         ... 0.         0.5739215\n",
            "    0.        ]]\n",
            "\n",
            "  [[0.         0.         0.         ... 0.         0.32918614\n",
            "    0.        ]\n",
            "   [0.         0.         0.         ... 0.         0.47241253\n",
            "    0.        ]\n",
            "   [0.         0.         0.         ... 0.         0.54114985\n",
            "    0.        ]\n",
            "   ...\n",
            "   [0.         0.         0.         ... 0.         0.52476656\n",
            "    0.        ]\n",
            "   [0.         0.         0.         ... 0.         0.5402049\n",
            "    0.        ]\n",
            "   [0.         0.         0.         ... 0.         0.63141793\n",
            "    0.        ]]\n",
            "\n",
            "  [[0.         0.         0.         ... 0.         0.6990852\n",
            "    0.        ]\n",
            "   [0.         0.         0.         ... 0.         0.4535665\n",
            "    0.        ]\n",
            "   [0.         0.         0.         ... 0.         0.48111665\n",
            "    0.        ]\n",
            "   ...\n",
            "   [0.         0.         0.         ... 0.         0.6265768\n",
            "    0.        ]\n",
            "   [0.         0.         0.         ... 0.         0.63617796\n",
            "    0.        ]\n",
            "   [0.         0.         0.         ... 0.         0.7073651\n",
            "    0.        ]]]]\n",
            "1/1 [==============================] - 0s\n",
            "Prediction: class ID: 0, Label: 1003\n",
            "{'1003': 1.0, '1003_ADDENDUM': 0.0, '1008': 1.0102087e-33, '4506_-_T': 0.0, 'CD': 0.0, 'FACTS': 4.041669e-34, 'FAIR_CREDIT_REPORTING_ACT': 0.0, 'FLOOD_INSURANCE_DECLARATION_PAGE': 7.00147e-32, 'MORTGAGE_FRAUD': 0.0, 'NOTICE_TO_HOMEOWNER': 0.0, 'SSA_-_89': 0.0, 'W_-_9': 2.0337948e-38}\n",
            "sum of probability = 1.0\n"
          ],
          "name": "stdout"
        },
        {
          "output_type": "execute_result",
          "data": {
            "text/plain": [
              "array([[[[0.        , 0.        , 0.        , ..., 0.        ,\n",
              "          0.5832435 , 0.        ],\n",
              "         [0.        , 0.        , 0.        , ..., 0.        ,\n",
              "          0.24042511, 0.        ],\n",
              "         [0.        , 0.        , 0.03893572, ..., 0.        ,\n",
              "          0.31317526, 0.        ],\n",
              "         ...,\n",
              "         [0.        , 0.        , 0.        , ..., 0.        ,\n",
              "          0.26427186, 0.        ],\n",
              "         [0.        , 0.        , 0.        , ..., 0.        ,\n",
              "          0.25254652, 0.        ],\n",
              "         [0.        , 0.        , 0.        , ..., 0.        ,\n",
              "          0.57497525, 0.        ]],\n",
              "\n",
              "        [[0.        , 0.        , 0.        , ..., 0.        ,\n",
              "          0.69911414, 0.        ],\n",
              "         [0.        , 0.        , 0.        , ..., 0.        ,\n",
              "          0.5438157 , 0.        ],\n",
              "         [0.        , 0.        , 0.        , ..., 0.        ,\n",
              "          0.48348218, 0.        ],\n",
              "         ...,\n",
              "         [0.        , 0.        , 0.        , ..., 0.        ,\n",
              "          0.6424187 , 0.        ],\n",
              "         [0.        , 0.        , 0.        , ..., 0.        ,\n",
              "          0.65076196, 0.        ],\n",
              "         [0.        , 0.        , 0.        , ..., 0.        ,\n",
              "          0.8694168 , 0.        ]],\n",
              "\n",
              "        [[0.        , 0.        , 0.        , ..., 0.        ,\n",
              "          0.6548303 , 0.        ],\n",
              "         [0.        , 0.        , 0.        , ..., 0.        ,\n",
              "          0.45532364, 0.        ],\n",
              "         [0.        , 0.        , 0.        , ..., 0.        ,\n",
              "          0.46964157, 0.        ],\n",
              "         ...,\n",
              "         [0.        , 0.        , 0.        , ..., 0.        ,\n",
              "          0.45366272, 0.        ],\n",
              "         [0.        , 0.        , 0.        , ..., 0.        ,\n",
              "          0.5675098 , 0.        ],\n",
              "         [0.        , 0.        , 0.        , ..., 0.        ,\n",
              "          0.8813515 , 0.        ]],\n",
              "\n",
              "        ...,\n",
              "\n",
              "        [[0.        , 0.        , 0.        , ..., 0.        ,\n",
              "          0.51180464, 0.        ],\n",
              "         [0.        , 0.        , 0.        , ..., 0.        ,\n",
              "          0.47698963, 0.        ],\n",
              "         [0.        , 0.        , 0.        , ..., 0.        ,\n",
              "          0.5571052 , 0.        ],\n",
              "         ...,\n",
              "         [0.        , 0.        , 0.        , ..., 0.        ,\n",
              "          0.5338672 , 0.        ],\n",
              "         [0.        , 0.        , 0.        , ..., 0.        ,\n",
              "          0.5397569 , 0.        ],\n",
              "         [0.        , 0.        , 0.        , ..., 0.        ,\n",
              "          0.5739215 , 0.        ]],\n",
              "\n",
              "        [[0.        , 0.        , 0.        , ..., 0.        ,\n",
              "          0.32918614, 0.        ],\n",
              "         [0.        , 0.        , 0.        , ..., 0.        ,\n",
              "          0.47241253, 0.        ],\n",
              "         [0.        , 0.        , 0.        , ..., 0.        ,\n",
              "          0.54114985, 0.        ],\n",
              "         ...,\n",
              "         [0.        , 0.        , 0.        , ..., 0.        ,\n",
              "          0.52476656, 0.        ],\n",
              "         [0.        , 0.        , 0.        , ..., 0.        ,\n",
              "          0.5402049 , 0.        ],\n",
              "         [0.        , 0.        , 0.        , ..., 0.        ,\n",
              "          0.63141793, 0.        ]],\n",
              "\n",
              "        [[0.        , 0.        , 0.        , ..., 0.        ,\n",
              "          0.6990852 , 0.        ],\n",
              "         [0.        , 0.        , 0.        , ..., 0.        ,\n",
              "          0.4535665 , 0.        ],\n",
              "         [0.        , 0.        , 0.        , ..., 0.        ,\n",
              "          0.48111665, 0.        ],\n",
              "         ...,\n",
              "         [0.        , 0.        , 0.        , ..., 0.        ,\n",
              "          0.6265768 , 0.        ],\n",
              "         [0.        , 0.        , 0.        , ..., 0.        ,\n",
              "          0.63617796, 0.        ],\n",
              "         [0.        , 0.        , 0.        , ..., 0.        ,\n",
              "          0.7073651 , 0.        ]]]], dtype=float32)"
            ]
          },
          "metadata": {
            "tags": []
          },
          "execution_count": 47
        }
      ]
    },
    {
      "cell_type": "code",
      "metadata": {
        "id": "O-EONCSOGlaO",
        "colab_type": "code",
        "outputId": "0f5042cf-b359-4c45-c552-4b980d5d2cfe",
        "colab": {
          "base_uri": "https://localhost:8080/",
          "height": 748
        }
      },
      "source": [
        "!pip install tensorflow==1.4.0."
      ],
      "execution_count": 0,
      "outputs": [
        {
          "output_type": "stream",
          "text": [
            "Collecting tensorflow==1.4.0.\n",
            "\u001b[?25l  Downloading https://files.pythonhosted.org/packages/86/9f/be0165c6eefd841e6928e54d3d083fa174f92d640fdc52f73a33dc9c54d1/tensorflow-1.4.0-cp36-cp36m-manylinux1_x86_64.whl (41.2MB)\n",
            "\u001b[K     |████████████████████████████████| 41.2MB 209kB/s \n",
            "\u001b[?25hCollecting enum34>=1.1.6\n",
            "  Downloading https://files.pythonhosted.org/packages/af/42/cb9355df32c69b553e72a2e28daee25d1611d2c0d9c272aa1d34204205b2/enum34-1.1.6-py3-none-any.whl\n",
            "Requirement already satisfied: wheel>=0.26 in /usr/local/lib/python3.6/dist-packages (from tensorflow==1.4.0.) (0.33.6)\n",
            "Requirement already satisfied: numpy>=1.12.1 in /usr/local/lib/python3.6/dist-packages (from tensorflow==1.4.0.) (1.17.4)\n",
            "Requirement already satisfied: six>=1.10.0 in /usr/local/lib/python3.6/dist-packages (from tensorflow==1.4.0.) (1.12.0)\n",
            "Requirement already satisfied: protobuf>=3.3.0 in /usr/local/lib/python3.6/dist-packages (from tensorflow==1.4.0.) (3.10.0)\n",
            "Collecting tensorflow-tensorboard<0.5.0,>=0.4.0rc1\n",
            "\u001b[?25l  Downloading https://files.pythonhosted.org/packages/e9/9f/5845c18f9df5e7ea638ecf3a272238f0e7671e454faa396b5188c6e6fc0a/tensorflow_tensorboard-0.4.0-py3-none-any.whl (1.7MB)\n",
            "\u001b[K     |████████████████████████████████| 1.7MB 26.7MB/s \n",
            "\u001b[?25hRequirement already satisfied: setuptools in /usr/local/lib/python3.6/dist-packages (from protobuf>=3.3.0->tensorflow==1.4.0.) (41.6.0)\n",
            "Collecting bleach==1.5.0\n",
            "  Downloading https://files.pythonhosted.org/packages/33/70/86c5fec937ea4964184d4d6c4f0b9551564f821e1c3575907639036d9b90/bleach-1.5.0-py2.py3-none-any.whl\n",
            "Collecting html5lib==0.9999999\n",
            "\u001b[?25l  Downloading https://files.pythonhosted.org/packages/ae/ae/bcb60402c60932b32dfaf19bb53870b29eda2cd17551ba5639219fb5ebf9/html5lib-0.9999999.tar.gz (889kB)\n",
            "\u001b[K     |████████████████████████████████| 890kB 38.7MB/s \n",
            "\u001b[?25hRequirement already satisfied: markdown>=2.6.8 in /usr/local/lib/python3.6/dist-packages (from tensorflow-tensorboard<0.5.0,>=0.4.0rc1->tensorflow==1.4.0.) (3.1.1)\n",
            "Requirement already satisfied: werkzeug>=0.11.10 in /usr/local/lib/python3.6/dist-packages (from tensorflow-tensorboard<0.5.0,>=0.4.0rc1->tensorflow==1.4.0.) (0.16.0)\n",
            "Building wheels for collected packages: html5lib\n",
            "  Building wheel for html5lib (setup.py) ... \u001b[?25l\u001b[?25hdone\n",
            "  Created wheel for html5lib: filename=html5lib-0.9999999-cp36-none-any.whl size=107221 sha256=224c9d9ca4602f2000a7a0ef7d2b3f4f7e457bc5f3c8a6e5469a1ad1cc963a30\n",
            "  Stored in directory: /root/.cache/pip/wheels/50/ae/f9/d2b189788efcf61d1ee0e36045476735c838898eef1cad6e29\n",
            "Successfully built html5lib\n",
            "\u001b[31mERROR: stable-baselines 2.2.1 has requirement tensorflow>=1.5.0, but you'll have tensorflow 1.4.0 which is incompatible.\u001b[0m\n",
            "\u001b[31mERROR: magenta 0.3.19 has requirement tensorflow>=1.12.0, but you'll have tensorflow 1.4.0 which is incompatible.\u001b[0m\n",
            "Installing collected packages: enum34, html5lib, bleach, tensorflow-tensorboard, tensorflow\n",
            "  Found existing installation: html5lib 1.0.1\n",
            "    Uninstalling html5lib-1.0.1:\n",
            "      Successfully uninstalled html5lib-1.0.1\n",
            "  Found existing installation: bleach 3.1.0\n",
            "    Uninstalling bleach-3.1.0:\n",
            "      Successfully uninstalled bleach-3.1.0\n",
            "  Found existing installation: tensorflow 1.15.0\n",
            "    Uninstalling tensorflow-1.15.0:\n",
            "      Successfully uninstalled tensorflow-1.15.0\n",
            "Successfully installed bleach-1.5.0 enum34-1.1.6 html5lib-0.9999999 tensorflow-1.4.0 tensorflow-tensorboard-0.4.0\n"
          ],
          "name": "stdout"
        },
        {
          "output_type": "display_data",
          "data": {
            "application/vnd.colab-display-data+json": {
              "pip_warning": {
                "packages": [
                  "enum"
                ]
              }
            }
          },
          "metadata": {
            "tags": []
          }
        }
      ]
    }
  ]
}